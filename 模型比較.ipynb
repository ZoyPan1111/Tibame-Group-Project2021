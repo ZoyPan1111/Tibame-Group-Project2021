{
  "nbformat": 4,
  "nbformat_minor": 0,
  "metadata": {
    "colab": {
      "name": "模型比較.ipynb",
      "provenance": [],
      "collapsed_sections": [],
      "toc_visible": true,
      "include_colab_link": true
    },
    "kernelspec": {
      "name": "python3",
      "display_name": "Python 3"
    },
    "language_info": {
      "name": "python"
    },
    "accelerator": "GPU"
  },
  "cells": [
    {
      "cell_type": "markdown",
      "metadata": {
        "id": "view-in-github",
        "colab_type": "text"
      },
      "source": [
        "<a href=\"https://colab.research.google.com/github/ZoyPan1111/Tibame-Group-Project2021/blob/main/%E6%A8%A1%E5%9E%8B%E6%AF%94%E8%BC%83.ipynb\" target=\"_parent\"><img src=\"https://colab.research.google.com/assets/colab-badge.svg\" alt=\"Open In Colab\"/></a>"
      ]
    },
    {
      "cell_type": "markdown",
      "metadata": {
        "id": "G2L1UhE6252f"
      },
      "source": [
        "# 使用套件"
      ]
    },
    {
      "cell_type": "code",
      "metadata": {
        "id": "mQusZiej33Jy"
      },
      "source": [
        "from tensorflow.keras.applications.xception import Xception\n",
        "from tensorflow.keras.applications.vgg16 import VGG16\n",
        "from tensorflow.keras.applications.mobilenet import MobileNet\n",
        "from tensorflow.keras.models import Model, Sequential\n",
        "from tensorflow.keras.layers import GlobalAveragePooling2D, Dense, BatchNormalization\n",
        "from tensorflow.keras.layers import Dropout\n",
        "\n",
        "# preprocess_input 這邊引用各自模型\n",
        "from tensorflow.keras.applications.mobilenet import preprocess_input as M_pre_input\n",
        "from tensorflow.keras.applications.xception import preprocess_input as X_pre_input\n",
        "from tensorflow.keras.applications.vgg16 import preprocess_input as vgg16_pre_input"
      ],
      "execution_count": null,
      "outputs": []
    },
    {
      "cell_type": "code",
      "metadata": {
        "id": "V4jnIescXj41"
      },
      "source": [
        "from sklearn.metrics import classification_report\n",
        "from sklearn.metrics import roc_curve, auc\n",
        "import glob\n",
        "import pandas as pd\n",
        "import matplotlib.pyplot as plt\n",
        "import numpy as np\n",
        "from PIL import Image"
      ],
      "execution_count": null,
      "outputs": []
    },
    {
      "cell_type": "markdown",
      "metadata": {
        "id": "YC1zKjerBfZD"
      },
      "source": [
        "# 模型架構與讀取weights"
      ]
    },
    {
      "cell_type": "markdown",
      "metadata": {
        "id": "Nfpi8-8T2zth"
      },
      "source": [
        "## - 辰 model1"
      ]
    },
    {
      "cell_type": "code",
      "metadata": {
        "id": "v_cCLruZ221Y"
      },
      "source": [
        "# 放模型構架\n",
        "cnn_M = MobileNet(include_top=False, input_shape=(224, 224, 3))\n",
        "layers = [\n",
        "    BatchNormalization(),\n",
        "    GlobalAveragePooling2D(),\n",
        "    Dense(2, activation=\"softmax\")\n",
        "]\n",
        "model1 = Sequential(cnn_M.layers + layers)\n",
        "\n",
        "# 直接Load model 讀取 weights\n",
        "model1.load_weights('/content/drive/MyDrive/Model_Test/mobileNet_Vol.3.h5')"
      ],
      "execution_count": null,
      "outputs": []
    },
    {
      "cell_type": "markdown",
      "metadata": {
        "id": "HiNd04tL3l6Y"
      },
      "source": [
        "## - 驛 model2"
      ]
    },
    {
      "cell_type": "code",
      "metadata": {
        "id": "kcgaS4Yr3xmY",
        "colab": {
          "base_uri": "https://localhost:8080/"
        },
        "outputId": "fe8b1bae-dc73-4a82-9afa-a940647c38ca"
      },
      "source": [
        "cnn_X = Xception(include_top=False, weights=\"imagenet\", input_shape=(299, 299, 3))\n",
        "# cnn_X.summary()\n",
        "# 卷積模型不參與訓練，要在 compile 前設定好\n",
        "for l in cnn_X.layers:\n",
        "  l.trainable = False\n",
        "\n",
        "# 加上自己的網路層\n",
        "x = cnn_X.output\n",
        "x = BatchNormalization()(x)\n",
        "x = GlobalAveragePooling2D()(x)\n",
        "output = Dense(2, activation='softmax')(x) \n",
        "\n",
        "model2 = Model(cnn_X.input, output)\n",
        "#model.summary()  # Trainable params: 8,194 = 2048*2 + ( 2048*2+2 )\n",
        "\n",
        "# 直接Load model 讀取 weights\n",
        "model2.load_weights(\"/content/drive/MyDrive/Model_Test/poo_zoy_X1weights.h5\")"
      ],
      "execution_count": null,
      "outputs": [
        {
          "output_type": "stream",
          "name": "stdout",
          "text": [
            "Downloading data from https://storage.googleapis.com/tensorflow/keras-applications/xception/xception_weights_tf_dim_ordering_tf_kernels_notop.h5\n",
            "83689472/83683744 [==============================] - 1s 0us/step\n",
            "83697664/83683744 [==============================] - 1s 0us/step\n"
          ]
        }
      ]
    },
    {
      "cell_type": "markdown",
      "metadata": {
        "id": "aTuYrGqY9AvI"
      },
      "source": [
        "## - 源 model3"
      ]
    },
    {
      "cell_type": "code",
      "metadata": {
        "id": "jBkb_UOJ8hwm",
        "colab": {
          "base_uri": "https://localhost:8080/"
        },
        "outputId": "aebf0247-7b03-436f-a2e9-3f81559d0edf"
      },
      "source": [
        "cnn = VGG16(include_top=False, input_shape=(224, 224, 3))\n",
        "\n",
        "for l in cnn.layers:\n",
        "    l.trainable = False\n",
        "\n",
        "layers = [\n",
        "    BatchNormalization(),\n",
        "    GlobalAveragePooling2D(),\n",
        "    Dense(2, activation=\"softmax\")\n",
        "]\n",
        "model3 = Sequential(cnn.layers + layers)"
      ],
      "execution_count": null,
      "outputs": [
        {
          "output_type": "stream",
          "name": "stdout",
          "text": [
            "Downloading data from https://storage.googleapis.com/tensorflow/keras-applications/vgg16/vgg16_weights_tf_dim_ordering_tf_kernels_notop.h5\n",
            "58892288/58889256 [==============================] - 1s 0us/step\n",
            "58900480/58889256 [==============================] - 1s 0us/step\n"
          ]
        }
      ]
    },
    {
      "cell_type": "code",
      "metadata": {
        "id": "ET0PsLvb9b0o"
      },
      "source": [
        "# 直接Load model 讀取 weights\n",
        "model3.load_weights(\"/content/drive/MyDrive/Model_Test/poo_mike_v3weights.h5\")"
      ],
      "execution_count": null,
      "outputs": []
    },
    {
      "cell_type": "markdown",
      "metadata": {
        "id": "jjK9s4PI9TJX"
      },
      "source": [
        "# 讀取測試照片集20張(正常:10/不正常:10)"
      ]
    },
    {
      "cell_type": "code",
      "metadata": {
        "id": "tvPMKu7C9jfA"
      },
      "source": [
        "import zipfile\n",
        "f = zipfile.ZipFile(\"/content/drive/MyDrive/Model_Test/TestIMG.zip\")\n",
        "f.extractall()"
      ],
      "execution_count": null,
      "outputs": []
    },
    {
      "cell_type": "code",
      "metadata": {
        "colab": {
          "base_uri": "https://localhost:8080/"
        },
        "id": "P0Y9Dj0Qui46",
        "outputId": "612fa4bb-6acd-406f-bc9f-2666b65ce2a7"
      },
      "source": [
        "picG = glob.glob(\"TestIMG/good*\") # 10張正常\n",
        "picB = glob.glob(\"TestIMG/bad*\") # 10張不正常\n",
        "\n",
        "x_test = np.array(picG + picB)\n",
        "y_test = np.array([0] * len(picG) + [1] * len(picB))\n",
        "\n",
        "print(x_test.shape)\n",
        "print(y_test.shape)"
      ],
      "execution_count": null,
      "outputs": [
        {
          "output_type": "stream",
          "name": "stdout",
          "text": [
            "(20,)\n",
            "(20,)\n"
          ]
        }
      ]
    },
    {
      "cell_type": "markdown",
      "metadata": {
        "id": "Z41LUKHjAC2W"
      },
      "source": [
        "# 進行測試資料前處理"
      ]
    },
    {
      "cell_type": "markdown",
      "metadata": {
        "id": "uRxYoDOWAQyx"
      },
      "source": [
        "## model1"
      ]
    },
    {
      "cell_type": "code",
      "metadata": {
        "id": "NhdCKy7sYAmT"
      },
      "source": [
        "ori_imgs1 = []\n",
        "for p in x_test:\n",
        "    img = Image.open(p).resize((224, 224)).convert(\"RGB\")\n",
        "    ori_imgs1.append(np.array(img))\n",
        "ori_imgs1 = np.array(ori_imgs1)\n",
        "preprocess_imgs1 = M_pre_input(ori_imgs1)"
      ],
      "execution_count": null,
      "outputs": []
    },
    {
      "cell_type": "markdown",
      "metadata": {
        "id": "NDV8YD5PBNXt"
      },
      "source": [
        "## model2"
      ]
    },
    {
      "cell_type": "code",
      "metadata": {
        "id": "XrDCpyNjALRT"
      },
      "source": [
        "ori_imgs2 = []\n",
        "for p in x_test:\n",
        "    img = Image.open(p).resize((299, 299)).convert(\"RGB\")\n",
        "    ori_imgs2.append(np.array(img))\n",
        "ori_imgs2 = np.array(ori_imgs2)\n",
        "preprocess_imgs2 = X_pre_input(ori_imgs2)"
      ],
      "execution_count": null,
      "outputs": []
    },
    {
      "cell_type": "markdown",
      "metadata": {
        "id": "QJsRTDu4BX7L"
      },
      "source": [
        "## model3"
      ]
    },
    {
      "cell_type": "code",
      "metadata": {
        "id": "WgVP8rZBBttH"
      },
      "source": [
        "ori_imgs3 = []\n",
        "for p in x_test:\n",
        "    img = Image.open(p).resize((224, 224)).convert(\"RGB\")\n",
        "    ori_imgs3.append(np.array(img))\n",
        "ori_imgs3 = np.array(ori_imgs3)\n",
        "preprocess_imgs3 = vgg16_pre_input(np.array(ori_imgs3))"
      ],
      "execution_count": null,
      "outputs": []
    },
    {
      "cell_type": "markdown",
      "metadata": {
        "id": "VelYa-eYBvW4"
      },
      "source": [
        "# 模型預測數據"
      ]
    },
    {
      "cell_type": "markdown",
      "metadata": {
        "id": "6R8rdM65CnoY"
      },
      "source": [
        "## Recall & Precision "
      ]
    },
    {
      "cell_type": "code",
      "metadata": {
        "id": "7IDvupbHYMmG",
        "colab": {
          "base_uri": "https://localhost:8080/"
        },
        "outputId": "ae41cf12-4199-4d01-dafe-61ff309d3def"
      },
      "source": [
        "# 三個模型預測\n",
        "pre1 = model1.predict(preprocess_imgs1).argmax(axis=1)\n",
        "pre2 = model2.predict(preprocess_imgs2).argmax(axis=1)\n",
        "pre3 = model3.predict(preprocess_imgs3).argmax(axis=1)\n",
        "\n",
        "print(classification_report(y_test, pre1)) # Model1 - MobileNet\n",
        "print(classification_report(y_test, pre2)) # Model2 - Xception\n",
        "print(classification_report(y_test, pre3)) # Model3 - VGG16"
      ],
      "execution_count": null,
      "outputs": [
        {
          "output_type": "stream",
          "name": "stdout",
          "text": [
            "              precision    recall  f1-score   support\n",
            "\n",
            "           0       0.67      0.80      0.73        10\n",
            "           1       0.75      0.60      0.67        10\n",
            "\n",
            "    accuracy                           0.70        20\n",
            "   macro avg       0.71      0.70      0.70        20\n",
            "weighted avg       0.71      0.70      0.70        20\n",
            "\n",
            "              precision    recall  f1-score   support\n",
            "\n",
            "           0       0.60      0.90      0.72        10\n",
            "           1       0.80      0.40      0.53        10\n",
            "\n",
            "    accuracy                           0.65        20\n",
            "   macro avg       0.70      0.65      0.63        20\n",
            "weighted avg       0.70      0.65      0.63        20\n",
            "\n",
            "              precision    recall  f1-score   support\n",
            "\n",
            "           0       0.67      1.00      0.80        10\n",
            "           1       1.00      0.50      0.67        10\n",
            "\n",
            "    accuracy                           0.75        20\n",
            "   macro avg       0.83      0.75      0.73        20\n",
            "weighted avg       0.83      0.75      0.73        20\n",
            "\n"
          ]
        }
      ]
    },
    {
      "cell_type": "markdown",
      "metadata": {
        "id": "6kie0fuiDbXB"
      },
      "source": [
        "## Confusion Matrix 混淆矩陣"
      ]
    },
    {
      "cell_type": "code",
      "metadata": {
        "id": "WtMWpgJpYefu"
      },
      "source": [
        "# 計算『混淆矩陣』(Confusion Matrix)，顯示測試集分類的正確及錯認總和數\n",
        " \n",
        "df1 = pd.crosstab(y_test, pre1, rownames=['實際值'], colnames=['預測值'])\n",
        "df2 = pd.crosstab(y_test, pre2, rownames=['實際值'], colnames=['預測值'])\n",
        "df3 = pd.crosstab(y_test, pre3, rownames=['實際值'], colnames=['預測值'])"
      ],
      "execution_count": null,
      "outputs": []
    },
    {
      "cell_type": "code",
      "metadata": {
        "colab": {
          "base_uri": "https://localhost:8080/",
          "height": 143
        },
        "id": "iTepgDUEvi4X",
        "outputId": "f53d592a-5395-454d-cd4e-b9b0f2fb7600"
      },
      "source": [
        "df1 # Model1 - MobileNet"
      ],
      "execution_count": null,
      "outputs": [
        {
          "output_type": "execute_result",
          "data": {
            "text/html": [
              "<div>\n",
              "<style scoped>\n",
              "    .dataframe tbody tr th:only-of-type {\n",
              "        vertical-align: middle;\n",
              "    }\n",
              "\n",
              "    .dataframe tbody tr th {\n",
              "        vertical-align: top;\n",
              "    }\n",
              "\n",
              "    .dataframe thead th {\n",
              "        text-align: right;\n",
              "    }\n",
              "</style>\n",
              "<table border=\"1\" class=\"dataframe\">\n",
              "  <thead>\n",
              "    <tr style=\"text-align: right;\">\n",
              "      <th>預測值</th>\n",
              "      <th>0</th>\n",
              "      <th>1</th>\n",
              "    </tr>\n",
              "    <tr>\n",
              "      <th>實際值</th>\n",
              "      <th></th>\n",
              "      <th></th>\n",
              "    </tr>\n",
              "  </thead>\n",
              "  <tbody>\n",
              "    <tr>\n",
              "      <th>0</th>\n",
              "      <td>8</td>\n",
              "      <td>2</td>\n",
              "    </tr>\n",
              "    <tr>\n",
              "      <th>1</th>\n",
              "      <td>4</td>\n",
              "      <td>6</td>\n",
              "    </tr>\n",
              "  </tbody>\n",
              "</table>\n",
              "</div>"
            ],
            "text/plain": [
              "預測值  0  1\n",
              "實際值      \n",
              "0    8  2\n",
              "1    4  6"
            ]
          },
          "metadata": {},
          "execution_count": 21
        }
      ]
    },
    {
      "cell_type": "code",
      "metadata": {
        "colab": {
          "base_uri": "https://localhost:8080/",
          "height": 143
        },
        "id": "0RgZ1OmRvlAi",
        "outputId": "7432d62b-a806-4e8f-9bf8-171139f4849c"
      },
      "source": [
        "df2 # Model2 - Xception"
      ],
      "execution_count": null,
      "outputs": [
        {
          "output_type": "execute_result",
          "data": {
            "text/html": [
              "<div>\n",
              "<style scoped>\n",
              "    .dataframe tbody tr th:only-of-type {\n",
              "        vertical-align: middle;\n",
              "    }\n",
              "\n",
              "    .dataframe tbody tr th {\n",
              "        vertical-align: top;\n",
              "    }\n",
              "\n",
              "    .dataframe thead th {\n",
              "        text-align: right;\n",
              "    }\n",
              "</style>\n",
              "<table border=\"1\" class=\"dataframe\">\n",
              "  <thead>\n",
              "    <tr style=\"text-align: right;\">\n",
              "      <th>預測值</th>\n",
              "      <th>0</th>\n",
              "      <th>1</th>\n",
              "    </tr>\n",
              "    <tr>\n",
              "      <th>實際值</th>\n",
              "      <th></th>\n",
              "      <th></th>\n",
              "    </tr>\n",
              "  </thead>\n",
              "  <tbody>\n",
              "    <tr>\n",
              "      <th>0</th>\n",
              "      <td>9</td>\n",
              "      <td>1</td>\n",
              "    </tr>\n",
              "    <tr>\n",
              "      <th>1</th>\n",
              "      <td>6</td>\n",
              "      <td>4</td>\n",
              "    </tr>\n",
              "  </tbody>\n",
              "</table>\n",
              "</div>"
            ],
            "text/plain": [
              "預測值  0  1\n",
              "實際值      \n",
              "0    9  1\n",
              "1    6  4"
            ]
          },
          "metadata": {},
          "execution_count": 22
        }
      ]
    },
    {
      "cell_type": "code",
      "metadata": {
        "colab": {
          "base_uri": "https://localhost:8080/",
          "height": 143
        },
        "id": "7vHJ4fm4vmg6",
        "outputId": "9b72778a-dc42-441e-8a6d-9da86cbabb01"
      },
      "source": [
        "df3 # Model3 - VGG16"
      ],
      "execution_count": null,
      "outputs": [
        {
          "output_type": "execute_result",
          "data": {
            "text/html": [
              "<div>\n",
              "<style scoped>\n",
              "    .dataframe tbody tr th:only-of-type {\n",
              "        vertical-align: middle;\n",
              "    }\n",
              "\n",
              "    .dataframe tbody tr th {\n",
              "        vertical-align: top;\n",
              "    }\n",
              "\n",
              "    .dataframe thead th {\n",
              "        text-align: right;\n",
              "    }\n",
              "</style>\n",
              "<table border=\"1\" class=\"dataframe\">\n",
              "  <thead>\n",
              "    <tr style=\"text-align: right;\">\n",
              "      <th>預測值</th>\n",
              "      <th>0</th>\n",
              "      <th>1</th>\n",
              "    </tr>\n",
              "    <tr>\n",
              "      <th>實際值</th>\n",
              "      <th></th>\n",
              "      <th></th>\n",
              "    </tr>\n",
              "  </thead>\n",
              "  <tbody>\n",
              "    <tr>\n",
              "      <th>0</th>\n",
              "      <td>10</td>\n",
              "      <td>0</td>\n",
              "    </tr>\n",
              "    <tr>\n",
              "      <th>1</th>\n",
              "      <td>5</td>\n",
              "      <td>5</td>\n",
              "    </tr>\n",
              "  </tbody>\n",
              "</table>\n",
              "</div>"
            ],
            "text/plain": [
              "預測值   0  1\n",
              "實際值       \n",
              "0    10  0\n",
              "1     5  5"
            ]
          },
          "metadata": {},
          "execution_count": 23
        }
      ]
    },
    {
      "cell_type": "markdown",
      "metadata": {
        "id": "VfI6huxeYs0p"
      },
      "source": [
        "## ROC 曲線與 AUC"
      ]
    },
    {
      "cell_type": "code",
      "metadata": {
        "colab": {
          "base_uri": "https://localhost:8080/",
          "height": 636
        },
        "id": "A2oYew06awQx",
        "outputId": "cb0fb715-80c4-473b-d419-f779050278e8"
      },
      "source": [
        "plt.figure(figsize= [20,10])\n",
        "\n",
        "for m, title, preimg in zip([model1, model2, model3], ['MobileNet', 'Xception', 'VGG16'],\n",
        "            [preprocess_imgs1, preprocess_imgs2, preprocess_imgs3]):\n",
        "  prob = m.predict(preimg)[:, 1]\n",
        "  fpr, tpr, thresholds = roc_curve(y_test, prob)\n",
        "  plt.plot(fpr, tpr, label='%s - AUC:%.2f'%(title, auc(fpr, tpr)))\n",
        "\n",
        "plt.legend(loc=\"lower right\", fontsize = 20)\n",
        "plt.plot([0, 1], [0, 1], 'k--')\n",
        "# plt.plot([0, 1], [0, 1], 'r--')\n",
        "\n",
        "plt.xlim([0.0, 1.0])\n",
        "plt.ylim([0.0, 1.0])\n",
        "plt.xlabel('False Positive Rate', fontsize = 20)\n",
        "plt.ylabel('True Positive Rate', fontsize = 20)\n",
        "plt.title('Receiver operating characteristic example', fontsize = 20)\n",
        "plt.show()"
      ],
      "execution_count": null,
      "outputs": [
        {
          "output_type": "display_data",
          "data": {
            "image/png": "[encoded data removed]",
            "text/plain": [
              "<Figure size 1440x720 with 1 Axes>"
            ]
          },
          "metadata": {
            "needs_background": "light"
          }
        }
      ]
    }
  ]
}